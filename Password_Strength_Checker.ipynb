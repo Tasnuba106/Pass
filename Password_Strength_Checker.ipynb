{
  "cells": [
    {
      "cell_type": "markdown",
      "metadata": {},
      "source": [
        "Import libraries"
      ]
    },
    {
      "cell_type": "code",
      "execution_count": 84,
      "metadata": {
        "id": "Cvpnyrmmth9v"
      },
      "outputs": [],
      "source": [
        "import tkinter as tk\n",
        "from tkinter import ttk\n",
        "import pandas as pd\n",
        "import numpy as np\n",
        "from sklearn.feature_extraction.text import CountVectorizer, TfidfVectorizer\n",
        "from sklearn.model_selection import train_test_split\n",
        "from sklearn.ensemble import RandomForestClassifier"
      ]
    },
    {
      "cell_type": "markdown",
      "metadata": {},
      "source": [
        "Adding Dataset"
      ]
    },
    {
      "cell_type": "code",
      "execution_count": 85,
      "metadata": {
        "colab": {
          "base_uri": "https://localhost:8080/"
        },
        "id": "myJ2oI3_vMfx",
        "outputId": "57f01b8a-44ae-4b55-d4c3-13d6fda19681"
      },
      "outputs": [
        {
          "name": "stderr",
          "output_type": "stream",
          "text": [
            "c:\\Users\\User\\AppData\\Local\\Programs\\Python\\Python310\\lib\\site-packages\\IPython\\core\\interactiveshell.py:3398: FutureWarning: The error_bad_lines argument has been deprecated and will be removed in a future version.\n",
            "\n",
            "\n",
            "  exec(code_obj, self.user_global_ns, self.user_ns)\n"
          ]
        },
        {
          "data": {
            "text/plain": [
              "15000"
            ]
          },
          "metadata": {},
          "output_type": "display_data"
        }
      ],
      "source": [
        "data= pd.read_csv(\"data.csv\" ,error_bad_lines=False)\n",
        "display(len(data))\n",
        "data[\"strength\"] = data[\"strength\"].map({0: \"Very Weak\", 1: \"Weak\", 2: \"Medium\", 3: \"Strong\"})"
      ]
    },
    {
      "cell_type": "markdown",
      "metadata": {
        "id": "Sho34BxwYPPG"
      },
      "source": [
        "Drop Null"
      ]
    },
    {
      "cell_type": "code",
      "execution_count": 86,
      "metadata": {},
      "outputs": [
        {
          "data": {
            "text/plain": [
              "password    0\n",
              "strength    2\n",
              "dtype: int64"
            ]
          },
          "execution_count": 86,
          "metadata": {},
          "output_type": "execute_result"
        }
      ],
      "source": [
        "data.isnull().sum()"
      ]
    },
    {
      "cell_type": "code",
      "execution_count": 87,
      "metadata": {
        "id": "p8u07f8RYAE2"
      },
      "outputs": [],
      "source": [
        "data= data.dropna()"
      ]
    },
    {
      "cell_type": "markdown",
      "metadata": {},
      "source": [
        "Tokenizer function for TfidfVectorizer"
      ]
    },
    {
      "cell_type": "code",
      "execution_count": 88,
      "metadata": {
        "id": "A7EPvnzTY76k"
      },
      "outputs": [],
      "source": [
        "def word(password):\n",
        "  return list(password)"
      ]
    },
    {
      "cell_type": "markdown",
      "metadata": {},
      "source": [
        "Feature extraction using TfidfVectorizer"
      ]
    },
    {
      "cell_type": "code",
      "execution_count": 89,
      "metadata": {
        "colab": {
          "base_uri": "https://localhost:8080/",
          "height": 192
        },
        "id": "Pel638PoZQll",
        "outputId": "111f11dd-261b-4f3b-d30a-8dca8e736533"
      },
      "outputs": [],
      "source": [
        "x = data[\"password\"].astype(str).tolist()\n",
        "tfidf = TfidfVectorizer(tokenizer=word)\n",
        "x = tfidf.fit_transform(x)"
      ]
    },
    {
      "cell_type": "markdown",
      "metadata": {},
      "source": [
        "Split the data for training"
      ]
    },
    {
      "cell_type": "code",
      "execution_count": 90,
      "metadata": {
        "id": "v1kHsMBrbWHS"
      },
      "outputs": [],
      "source": [
        "xtrain, xtest, ytrain, ytest = train_test_split(x, data[\"strength\"], test_size=0.05, random_state=42)"
      ]
    },
    {
      "cell_type": "markdown",
      "metadata": {},
      "source": [
        "Train the model"
      ]
    },
    {
      "cell_type": "code",
      "execution_count": 91,
      "metadata": {
        "id": "NVY7M1ZKbojJ"
      },
      "outputs": [
        {
          "data": {
            "text/plain": [
              "RandomForestClassifier()"
            ]
          },
          "execution_count": 91,
          "metadata": {},
          "output_type": "execute_result"
        }
      ],
      "source": [
        "model=RandomForestClassifier()\n",
        "model.fit(xtrain,ytrain)"
      ]
    },
    {
      "cell_type": "markdown",
      "metadata": {},
      "source": [
        "Function to predict password strength"
      ]
    },
    {
      "cell_type": "code",
      "execution_count": 92,
      "metadata": {},
      "outputs": [],
      "source": [
        "def predict_strength():\n",
        "    user_password = password_entry.get()  # Get the password from the entry widget\n",
        "    if user_password in data[\"password\"].values:\n",
        "        data_input = tfidf.transform([user_password]).toarray()\n",
        "        output = model.predict(data_input)\n",
        "        # Display the result \n",
        "        result_label.config(text=f\"Predicted Strength: {output[0]}\", foreground= \"blue\")\n",
        "    else:\n",
        "        result_label.config(text=f\"Invalid Password!\", foreground= \"red\")"
      ]
    },
    {
      "cell_type": "code",
      "execution_count": 93,
      "metadata": {
        "id": "R6iM81V8b13x"
      },
      "outputs": [
        {
          "name": "stdout",
          "output_type": "stream",
          "text": [
            "0.9013333333333333\n",
            "Accuracy: 90.13%\n"
          ]
        }
      ],
      "source": [
        "a = model.score(xtest,ytest)\n",
        "print(a)\n",
        "A = a * 100\n",
        "print(f\"Accuracy: {A:.2f}%\")"
      ]
    },
    {
      "cell_type": "markdown",
      "metadata": {},
      "source": [
        "GUI setup"
      ]
    },
    {
      "cell_type": "code",
      "execution_count": 94,
      "metadata": {},
      "outputs": [
        {
          "data": {
            "text/plain": [
              "''"
            ]
          },
          "execution_count": 94,
          "metadata": {},
          "output_type": "execute_result"
        }
      ],
      "source": [
        "root = tk.Tk()\n",
        "root.title(\"Password Strength Checker\")"
      ]
    },
    {
      "cell_type": "code",
      "execution_count": 95,
      "metadata": {},
      "outputs": [],
      "source": [
        "frame = ttk.Frame(root, padding=\"10\")\n",
        "frame.grid(column=0, row=0, sticky=(tk.W, tk.E, tk.N, tk.S))"
      ]
    },
    {
      "cell_type": "code",
      "execution_count": 96,
      "metadata": {},
      "outputs": [],
      "source": [
        "password_label = ttk.Label(frame, text=\"Enter Password:\")\n",
        "password_label.grid(column=0, row=0, sticky=tk.W, pady=5)"
      ]
    },
    {
      "cell_type": "code",
      "execution_count": 97,
      "metadata": {},
      "outputs": [],
      "source": [
        "password_entry = ttk.Entry(frame, show=\"*\")\n",
        "password_entry.grid(column=1, row=0, sticky=tk.W, pady=5)"
      ]
    },
    {
      "cell_type": "code",
      "execution_count": 98,
      "metadata": {},
      "outputs": [],
      "source": [
        "predict_button = ttk.Button(frame, text=\"Predict Strength\", command=predict_strength)\n",
        "predict_button.grid(column=0, row=1, pady=10)"
      ]
    },
    {
      "cell_type": "code",
      "execution_count": 99,
      "metadata": {},
      "outputs": [],
      "source": [
        "result_label = ttk.Label(frame, text=\"\", font=(\"Helvetica\", 8, \"bold\"))\n",
        "result_label.grid(column=0, row=2, columnspan=2, pady=5)\n",
        "\n",
        "root.mainloop()"
      ]
    }
  ],
  "metadata": {
    "colab": {
      "provenance": []
    },
    "kernelspec": {
      "display_name": "Python 3",
      "name": "python3"
    },
    "language_info": {
      "codemirror_mode": {
        "name": "ipython",
        "version": 3
      },
      "file_extension": ".py",
      "mimetype": "text/x-python",
      "name": "python",
      "nbconvert_exporter": "python",
      "pygments_lexer": "ipython3",
      "version": "3.10.2"
    }
  },
  "nbformat": 4,
  "nbformat_minor": 0
}
